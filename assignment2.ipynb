{
 "cells": [
  {
   "cell_type": "markdown",
   "id": "d00a8e1b-7944-4d4c-bbf0-a60e42bde871",
   "metadata": {},
   "source": [
    "Q1. How do you comment code in Python? What are the different types of comments?"
   ]
  },
  {
   "cell_type": "markdown",
   "id": "f8848750-fdd5-4d5d-b8fd-ff40e68bc2d0",
   "metadata": {
    "tags": []
   },
   "source": [
    "to make comments regarding any code so that people would understand very easily, we use the key that is '#',but sometimes we also use \"\"\"   \"\"\" to make comments.\n",
    "there are basically two types of comments :\n",
    "    (i) sing line comments , and is created by using # , \n",
    "    examples: #i want to execute a piece of code but not possible because making comment\n",
    "        \n",
    "        we can also use short key to make comment that is ctrl + /\n",
    "        \n",
    "      (ii) multi line comments \n",
    "                             these kinds of comments are made using triple quotes that is \"\"\"  \"\"\"\n",
    "        for example\n",
    "        \"\"\"i have learnt sevral good things from sudhanshu sir, i had no idea regarding code and all these\n",
    "        but after taking classes from sudhanshu sir, i feel like i have got direction , \n",
    "        i am rewatching my classes because i did not about assignments because i did not watch the orientation classes\"\"\""
   ]
  },
  {
   "cell_type": "code",
   "execution_count": null,
   "id": "727391e6-803a-469d-962f-2abf258868df",
   "metadata": {},
   "outputs": [],
   "source": []
  },
  {
   "cell_type": "code",
   "execution_count": null,
   "id": "486795df-d03f-40a7-8713-31134f050bb9",
   "metadata": {},
   "outputs": [],
   "source": []
  },
  {
   "cell_type": "code",
   "execution_count": null,
   "id": "cfe8a64f-c36a-4db1-96d5-ba44c89b47c5",
   "metadata": {},
   "outputs": [],
   "source": []
  },
  {
   "cell_type": "markdown",
   "id": "5f01d176-8041-46c1-baf7-06111c39f33a",
   "metadata": {},
   "source": [
    "Q2. What are variables in Python? How do you declare and assign values to variables?"
   ]
  },
  {
   "cell_type": "markdown",
   "id": "0832d2d7-a433-452a-98c2-91757f432f06",
   "metadata": {},
   "source": [
    "varables are any word or letter which can hold or store data in itself. it starts with any letter or sometimes starts with underscore but i doesn't starts with special charcters such as @,$,and %etc.\n",
    "it sometimes holds data as integer , str , complex number , list, tuple, dictionary etc.\n",
    "\n",
    "to assign any values or data to variables , we use operator that is equal to or ="
   ]
  },
  {
   "cell_type": "code",
   "execution_count": null,
   "id": "546bafed-5fa8-4612-a0a7-41260fd1f69f",
   "metadata": {},
   "outputs": [],
   "source": []
  },
  {
   "cell_type": "markdown",
   "id": "4ad90ac0-9334-4410-a6dc-39b62f2e8512",
   "metadata": {},
   "source": [
    "Q3. How do you convert one data type to another in Python?"
   ]
  },
  {
   "cell_type": "markdown",
   "id": "d9f2b727-d382-43b9-aac7-569756606bf1",
   "metadata": {
    "tags": []
   },
   "source": [
    "we can convert one data types into another by using inbuilt functions but however , we can not convert all the data types into another but sometimes possible,\n",
    "so let's have look at some of the examples"
   ]
  },
  {
   "cell_type": "markdown",
   "id": "f9289277-ffdf-4251-a18f-98e60bac3dca",
   "metadata": {},
   "source": [
    "a='100'"
   ]
  },
  {
   "cell_type": "code",
   "execution_count": 6,
   "id": "b66c78a3-bd76-4284-b84e-a1ff30db19a7",
   "metadata": {
    "tags": []
   },
   "outputs": [],
   "source": [
    "a='100'"
   ]
  },
  {
   "cell_type": "code",
   "execution_count": 7,
   "id": "16dbc045-4e5c-4430-8464-2f0b414ceb88",
   "metadata": {
    "tags": []
   },
   "outputs": [
    {
     "data": {
      "text/plain": [
       "str"
      ]
     },
     "execution_count": 7,
     "metadata": {},
     "output_type": "execute_result"
    }
   ],
   "source": [
    "type(a)"
   ]
  },
  {
   "cell_type": "markdown",
   "id": "8f2c814e-4f96-49b6-8d73-00b9760a3474",
   "metadata": {},
   "source": [
    "Now let's convert this to integer"
   ]
  },
  {
   "cell_type": "code",
   "execution_count": 8,
   "id": "4abfe17a-3b91-4563-afc8-970d98df9ba1",
   "metadata": {
    "tags": []
   },
   "outputs": [],
   "source": [
    "a=int('100')"
   ]
  },
  {
   "cell_type": "code",
   "execution_count": 9,
   "id": "7a5719a7-dc57-4374-a94b-d42c8398e8f0",
   "metadata": {
    "tags": []
   },
   "outputs": [
    {
     "data": {
      "text/plain": [
       "int"
      ]
     },
     "execution_count": 9,
     "metadata": {},
     "output_type": "execute_result"
    }
   ],
   "source": [
    "type(a)"
   ]
  },
  {
   "cell_type": "markdown",
   "id": "1d30ab3b-9ecf-4182-8e5f-6231365d9c65",
   "metadata": {},
   "source": [
    "we have been able to convert here , now let's see another example where we can't convert"
   ]
  },
  {
   "cell_type": "code",
   "execution_count": 11,
   "id": "340e88b8-682a-43b8-be77-71cebdf95d1f",
   "metadata": {
    "tags": []
   },
   "outputs": [],
   "source": [
    "b='sudhanshu'"
   ]
  },
  {
   "cell_type": "code",
   "execution_count": 12,
   "id": "83f109b6-adab-43b9-a5bd-0d1d929713e0",
   "metadata": {
    "tags": []
   },
   "outputs": [
    {
     "data": {
      "text/plain": [
       "str"
      ]
     },
     "execution_count": 12,
     "metadata": {},
     "output_type": "execute_result"
    }
   ],
   "source": [
    "type(b)"
   ]
  },
  {
   "cell_type": "code",
   "execution_count": 13,
   "id": "4bf3a838-1b6f-4e71-abc9-fe705c23146c",
   "metadata": {
    "tags": []
   },
   "outputs": [
    {
     "ename": "ValueError",
     "evalue": "invalid literal for int() with base 10: 'sudhanshu'",
     "output_type": "error",
     "traceback": [
      "\u001b[1;31m---------------------------------------------------------------------------\u001b[0m",
      "\u001b[1;31mValueError\u001b[0m                                Traceback (most recent call last)",
      "Cell \u001b[1;32mIn[13], line 1\u001b[0m\n\u001b[1;32m----> 1\u001b[0m m\u001b[38;5;241m=\u001b[39m\u001b[38;5;28mint\u001b[39m(b)\n",
      "\u001b[1;31mValueError\u001b[0m: invalid literal for int() with base 10: 'sudhanshu'"
     ]
    }
   ],
   "source": [
    "m=int(b)"
   ]
  },
  {
   "cell_type": "markdown",
   "id": "d19326b1-e341-49f5-872b-d71c93e86566",
   "metadata": {},
   "source": [
    "here we couldn't convert , we have alot of these function such as bool(), float() etc"
   ]
  },
  {
   "cell_type": "code",
   "execution_count": null,
   "id": "fd1c54ff-239f-40ff-8da1-cf6321b52199",
   "metadata": {},
   "outputs": [],
   "source": []
  },
  {
   "cell_type": "code",
   "execution_count": null,
   "id": "84fd42d6-8db1-4b43-ae1e-b3cc28b6db0f",
   "metadata": {},
   "outputs": [],
   "source": []
  },
  {
   "cell_type": "markdown",
   "id": "cf667d37-6b2d-4fe6-8bd1-96f899b628bf",
   "metadata": {},
   "source": [
    "Q4. How do you write and execute a Python script from the command line?"
   ]
  },
  {
   "cell_type": "markdown",
   "id": "7d629dc0-ac7f-4846-ade4-69ad6de49d4e",
   "metadata": {},
   "source": [
    "to write and execute python code we us certain librabry or VS code, ineuron platform library, or pwskills library\n",
    "where we write and execute code\n"
   ]
  },
  {
   "cell_type": "code",
   "execution_count": 15,
   "id": "61526f90-4765-47f5-a5eb-ed76eab91759",
   "metadata": {
    "tags": []
   },
   "outputs": [
    {
     "name": "stdout",
     "output_type": "stream",
     "text": [
      "1\n",
      "2\n",
      "3\n",
      "4\n",
      "5\n",
      "6\n"
     ]
    },
    {
     "data": {
      "text/plain": [
       "[1, 4, 9, 16, 25, 36]"
      ]
     },
     "execution_count": 15,
     "metadata": {},
     "output_type": "execute_result"
    }
   ],
   "source": [
    "#example\n",
    "l=[1,2,3,4,5,6]\n",
    "l1=[]\n",
    "for i in l :\n",
    "    print(i)\n",
    "    l1.append(i**2)\n",
    "l1\n"
   ]
  },
  {
   "cell_type": "code",
   "execution_count": null,
   "id": "369f62e8-e307-4ca6-9d62-e696d784d7c3",
   "metadata": {},
   "outputs": [],
   "source": []
  },
  {
   "cell_type": "code",
   "execution_count": null,
   "id": "62f8b28a-7b84-4590-841f-fe4e03a6c20b",
   "metadata": {},
   "outputs": [],
   "source": []
  },
  {
   "cell_type": "markdown",
   "id": "e96b8f62-bc70-4c1c-914b-9f6577247fd7",
   "metadata": {},
   "source": [
    "Q5. Given a list my_list = [1, 2, 3, 4, 5], write the code to slice the list and obtain the sub-list [2, 3]."
   ]
  },
  {
   "cell_type": "code",
   "execution_count": 16,
   "id": "0ff6518b-f5f0-4584-85dc-3636e4e32788",
   "metadata": {
    "tags": []
   },
   "outputs": [],
   "source": [
    "#Ans\n",
    "my_list=[1,2,3,4,5]"
   ]
  },
  {
   "cell_type": "code",
   "execution_count": 18,
   "id": "12b5bc42-3026-4259-a280-d82355133be3",
   "metadata": {
    "tags": []
   },
   "outputs": [
    {
     "data": {
      "text/plain": [
       "[2, 3]"
      ]
     },
     "execution_count": 18,
     "metadata": {},
     "output_type": "execute_result"
    }
   ],
   "source": [
    "my_list[1:3]"
   ]
  },
  {
   "cell_type": "code",
   "execution_count": null,
   "id": "65c2e1fe-14dc-472e-a4c2-07d7cc2d0d7e",
   "metadata": {},
   "outputs": [],
   "source": []
  },
  {
   "cell_type": "markdown",
   "id": "782cd20a-0118-440a-ac21-2c2a7bdd16b2",
   "metadata": {},
   "source": [
    "Q6. What is a complex number in mathematics, and how is it represented in Python?"
   ]
  },
  {
   "cell_type": "markdown",
   "id": "e0107800-e6a0-480e-b37e-fb580f3c2223",
   "metadata": {},
   "source": [
    "#Ans:\n",
    "let's first talk about complex number in mathematics then will go on how it is diffrent from complex number in python.\n",
    "In mathematics , we write complex number such as 4+5i,6+8i,8+9ietc. but the python doesn't understand coplex number when there is 'i' in the imaganiray part. it only understands when there is j such as 4+6j, 6+8j , 7+88j etc"
   ]
  },
  {
   "cell_type": "code",
   "execution_count": null,
   "id": "375a801c-e22e-4bf3-b36e-b6f983545b0a",
   "metadata": {},
   "outputs": [],
   "source": []
  },
  {
   "cell_type": "code",
   "execution_count": null,
   "id": "13688388-57ff-4f1f-be95-13c71712897d",
   "metadata": {},
   "outputs": [],
   "source": []
  },
  {
   "cell_type": "markdown",
   "id": "cba03450-a271-45c0-ab4f-80d73fd8bde4",
   "metadata": {},
   "source": [
    "Q7. What is the correct way to declare a variable named age and assign the value 25 to it?"
   ]
  },
  {
   "cell_type": "markdown",
   "id": "74abec16-a85e-43b4-b871-ade9fdedc5e3",
   "metadata": {},
   "source": [
    "Ans : the correct way to decare a variable named age is as follows:-"
   ]
  },
  {
   "cell_type": "code",
   "execution_count": 19,
   "id": "cac89c8c-f322-4f3b-875e-876a513784b8",
   "metadata": {
    "tags": []
   },
   "outputs": [],
   "source": [
    "age=25"
   ]
  },
  {
   "cell_type": "code",
   "execution_count": 20,
   "id": "98161ea3-d4a7-4104-80cf-2e2b4c660641",
   "metadata": {
    "tags": []
   },
   "outputs": [
    {
     "data": {
      "text/plain": [
       "25"
      ]
     },
     "execution_count": 20,
     "metadata": {},
     "output_type": "execute_result"
    }
   ],
   "source": [
    "age"
   ]
  },
  {
   "cell_type": "code",
   "execution_count": null,
   "id": "7990c373-b79b-4dc0-8f6d-58517550b3b5",
   "metadata": {},
   "outputs": [],
   "source": []
  },
  {
   "cell_type": "code",
   "execution_count": null,
   "id": "7db1e12b-5ac1-4f0c-89c5-fea56b71e26d",
   "metadata": {},
   "outputs": [],
   "source": []
  },
  {
   "cell_type": "markdown",
   "id": "6de6500b-f470-4e79-9bcd-1635fa7a9a7d",
   "metadata": {},
   "source": [
    "8. Declare a variable named price and assign the value 9.99 to it. What data type does this variable \n",
    "belong to?"
   ]
  },
  {
   "cell_type": "markdown",
   "id": "cef15ea9-5c01-461c-827a-d4328db16e7b",
   "metadata": {},
   "source": [
    "ANS :- let's decalre a variable named price"
   ]
  },
  {
   "cell_type": "code",
   "execution_count": 21,
   "id": "03577df4-0de3-4779-af47-e465ca1363f0",
   "metadata": {
    "tags": []
   },
   "outputs": [],
   "source": [
    "price=9.99"
   ]
  },
  {
   "cell_type": "code",
   "execution_count": 22,
   "id": "955a22ae-6453-4cdd-b541-3e67046f388d",
   "metadata": {
    "tags": []
   },
   "outputs": [
    {
     "data": {
      "text/plain": [
       "float"
      ]
     },
     "execution_count": 22,
     "metadata": {},
     "output_type": "execute_result"
    }
   ],
   "source": [
    "type(price)"
   ]
  },
  {
   "cell_type": "markdown",
   "id": "d940dd84-5d4d-48f7-90bb-adefba70cb02",
   "metadata": {},
   "source": [
    "so data type is floating"
   ]
  },
  {
   "cell_type": "code",
   "execution_count": null,
   "id": "10e68dd4-6b6b-49e0-9135-fc6208fe8adc",
   "metadata": {},
   "outputs": [],
   "source": []
  },
  {
   "cell_type": "code",
   "execution_count": null,
   "id": "592c47b0-2744-4e4e-9e6e-5bc0505f38f7",
   "metadata": {},
   "outputs": [],
   "source": []
  },
  {
   "cell_type": "markdown",
   "id": "6f7e89bd-d731-4881-b6bb-2fabf9eb591a",
   "metadata": {},
   "source": [
    "Q9. Create a variable named name and assign your full name to it as a string. How would you print the \n",
    "value of this variable?"
   ]
  },
  {
   "cell_type": "code",
   "execution_count": 23,
   "id": "f869b4d1-5cff-4f87-b887-e509fcd3ed14",
   "metadata": {
    "tags": []
   },
   "outputs": [],
   "source": [
    "#ANS\n",
    "name='md nasim akram'"
   ]
  },
  {
   "cell_type": "code",
   "execution_count": 24,
   "id": "4fc0230a-f4ab-4176-b61a-7b49839a7ff1",
   "metadata": {
    "tags": []
   },
   "outputs": [
    {
     "name": "stdout",
     "output_type": "stream",
     "text": [
      "md nasim akram\n"
     ]
    }
   ],
   "source": [
    "print(name)"
   ]
  },
  {
   "cell_type": "code",
   "execution_count": null,
   "id": "96257736-842b-4da4-a91f-629bd9da5dbd",
   "metadata": {},
   "outputs": [],
   "source": []
  },
  {
   "cell_type": "markdown",
   "id": "c10d1519-f99b-4ae9-885d-5e92fd771d99",
   "metadata": {},
   "source": [
    "10. Given the string \"Hello, World!\", extract the substring \"World\"."
   ]
  },
  {
   "cell_type": "code",
   "execution_count": 25,
   "id": "5def273a-6b50-4ebf-a79b-c9e3096b653e",
   "metadata": {
    "tags": []
   },
   "outputs": [],
   "source": [
    "#ANS\n",
    "string=\"Hellow, world!\""
   ]
  },
  {
   "cell_type": "code",
   "execution_count": 26,
   "id": "b1115b0d-bb4d-4410-bf2f-8c7d37615469",
   "metadata": {
    "tags": []
   },
   "outputs": [],
   "source": [
    "substring=string[8:13]"
   ]
  },
  {
   "cell_type": "code",
   "execution_count": 27,
   "id": "4a597a2e-37c6-4737-92f4-e95ce16dedd2",
   "metadata": {
    "tags": []
   },
   "outputs": [
    {
     "data": {
      "text/plain": [
       "'world'"
      ]
     },
     "execution_count": 27,
     "metadata": {},
     "output_type": "execute_result"
    }
   ],
   "source": [
    "substring"
   ]
  },
  {
   "cell_type": "code",
   "execution_count": null,
   "id": "9bea0205-efe8-40e3-b2d6-000ad1fd60f9",
   "metadata": {},
   "outputs": [],
   "source": []
  },
  {
   "cell_type": "markdown",
   "id": "c4ead19a-04ad-4481-90a7-4540007ae5b8",
   "metadata": {},
   "source": [
    "Q11. Create a variable named \"is_student\" and assign it a boolean value indicating whether you are \n",
    "currently a student or not."
   ]
  },
  {
   "cell_type": "code",
   "execution_count": null,
   "id": "a58fc2b4-bac3-4633-b04d-3180c391a630",
   "metadata": {},
   "outputs": [],
   "source": [
    "#ANS\n",
    "is_student=int"
   ]
  }
 ],
 "metadata": {
  "kernelspec": {
   "display_name": "Python 3 (ipykernel)",
   "language": "python",
   "name": "python3"
  },
  "language_info": {
   "codemirror_mode": {
    "name": "ipython",
    "version": 3
   },
   "file_extension": ".py",
   "mimetype": "text/x-python",
   "name": "python",
   "nbconvert_exporter": "python",
   "pygments_lexer": "ipython3",
   "version": "3.11.3"
  }
 },
 "nbformat": 4,
 "nbformat_minor": 5
}
